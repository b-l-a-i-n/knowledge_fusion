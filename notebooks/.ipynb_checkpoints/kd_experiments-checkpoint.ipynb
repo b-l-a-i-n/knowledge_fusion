{
 "cells": [
  {
   "cell_type": "code",
   "execution_count": 22,
   "metadata": {
    "id": "T_rC1qZqRYIc"
   },
   "outputs": [],
   "source": [
    "import re\n",
    "import pandas as pd\n",
    "import numpy as np\n",
    "import pathlib\n",
    "import textwrap\n",
    "import os\n",
    "import random\n",
    "import time\n",
    "import requests\n",
    "import json\n",
    "\n",
    "from tqdm.notebook import tqdm\n",
    "tqdm.pandas()\n",
    "\n",
    "from langchain_community.tools import DuckDuckGoSearchRun\n",
    "from langchain_community.tools import DuckDuckGoSearchResults"
   ]
  },
  {
   "cell_type": "markdown",
   "metadata": {},
   "source": [
    "## Data loading"
   ]
  },
  {
   "cell_type": "code",
   "execution_count": 9,
   "metadata": {},
   "outputs": [],
   "source": [
    "# !git clone https://github.com/uhh-lt/TextGraphs17-shared-task.git"
   ]
  },
  {
   "cell_type": "code",
   "execution_count": 15,
   "metadata": {
    "id": "Qi9dgEnWLuZJ"
   },
   "outputs": [],
   "source": [
    "test_file_path = \"../TextGraphs17-shared-task/data/tsv/test.tsv\"\n",
    "train_file_path = \"../TextGraphs17-shared-task/data/tsv/train.tsv\"\n",
    "\n",
    "df_test = pd.read_csv(test_file_path, sep=\"\\t\")\n",
    "df_train = pd.read_csv(train_file_path, sep=\"\\t\")\n",
    "ws_df = pd.read_csv(\"../data/web_search_results_ddgo.csv\", index_col=0)\n",
    "\n",
    "SEP_TOKEN = \"</s>\"\n",
    "\n",
    "def linearize_graph(graph):\n",
    "    nodes = {node['id']: f\"{node['label']} ({node['type']}, {node['name_']})\" for node in graph['nodes']}\n",
    "    edges = []\n",
    "    for link in graph['links']:\n",
    "        source_node = nodes[link['source']]\n",
    "        target_node = nodes[link['target']]\n",
    "        label = link['label']\n",
    "        edges.append(f\"{source_node} - {label} -> {target_node}\")\n",
    "    return '; '.join(edges)\n",
    "\n",
    "df_test[\"graph\"] = df_test[\"graph\"].apply(eval)\n",
    "df_train[\"graph\"] = df_train[\"graph\"].apply(eval)\n",
    "\n",
    "df_test[\"linearized_graph\"] = df_test[\"graph\"].apply(linearize_graph)\n",
    "df_train[\"linearized_graph\"] = df_train[\"graph\"].apply(linearize_graph)\n",
    "\n",
    "df = pd.concat([df_train, df_test], axis=0)"
   ]
  },
  {
   "cell_type": "code",
   "execution_count": 18,
   "metadata": {
    "id": "zQJyIcjKGFk1"
   },
   "outputs": [],
   "source": [
    "import re\n",
    "    \n",
    "def generate_content(text):\n",
    "    url = \"http://0.0.0.0:8000/v1/chat/completions\"\n",
    "    headers = {\"Content-Type\": \"application/json\"}\n",
    "    data = {\n",
    "            \"model\": \"/archive/beliakin/hub/models--meta-llama--Meta-Llama-3-8B-Instruct/snapshots/c4a54320a52ed5f88b7a2f84496903ea4ff07b45/\",\n",
    "            \"messages\": [{\n",
    "            \"role\": \"user\",\n",
    "            \"content\": text}],\n",
    "            \"max_tokens\": 64,\n",
    "            \"temperature\": 0\n",
    "            }\n",
    "    \n",
    "    response = requests.post(url, headers=headers, json=data)\n",
    "    text = response.json()[\"choices\"][0][\"message\"][\"content\"]\n",
    "    return text\n",
    "\n",
    "\n",
    "def get_websearch_results(question):\n",
    "  results = []\n",
    "  search = DuckDuckGoSearchResults()    \n",
    "  snippet_list = search.run(question)\n",
    "  splitted = snippet_list.split(\"], [\")\n",
    "\n",
    "  for a in splitted:\n",
    "    b = re.search(r'snippet:(.*?), title:', a).group(1)\n",
    "    results.append(b)\n",
    "\n",
    "\n",
    "  llama_string = \"\"\n",
    "  for id, res in enumerate(results):\n",
    "      llama_string+=f'{id+1}. {res}\\r\\n'\n",
    "      \n",
    "  return llama_string\n",
    "   \n",
    "def get_context_web_search(row):\n",
    "    question, answ, id = row['question'], row['answerEntity'], row['answerEntityId']\n",
    "    attempts = 5\n",
    "    res = False\n",
    "    while not res:\n",
    "      try:\n",
    "        web_search_context = get_websearch_results(question.iloc[0])\n",
    "        res = True\n",
    "      except Exception as e:\n",
    "        print(e)\n",
    "        print(\"error search\")\n",
    "        time.sleep(20-attempts)\n",
    "        attempts -= 1\n",
    "      if attempts == 0:\n",
    "        web_search_context = \"\"\n",
    "        res = True\n",
    "    message = f\"\"\"Please answer the question based on the web search context. The web search context is sorted according to relevance. The answer should be a WikiDataID.\n",
    "Context: '{web_search_context}'\n",
    "Question: '{question.iloc[0]}'\n",
    "Choose the correct option and write only WikiDataID. If answers more than one - provide muliple WikiDataID splitted by \",\".\"\"\"\n",
    "    message += \"\\n\".join([f\"{a} {i}\" for a, i in zip(answ, id)])\n",
    "    message += \"\\n Return only WikiDataId.\"\n",
    "    return message"
   ]
  },
  {
   "cell_type": "markdown",
   "metadata": {
    "jp-MarkdownHeadingCollapsed": true
   },
   "source": [
    "## Entity/id prediction experiment"
   ]
  },
  {
   "cell_type": "code",
   "execution_count": null,
   "metadata": {},
   "outputs": [],
   "source": [
    "def predict_label(row, entity=True):\n",
    "    if entity:\n",
    "      text = row[\"entity_id\"]\n",
    "      message = f\"What WikiData entity does WikiDataId {text} have? Return only WikiData entity.\"\n",
    "    else:\n",
    "      text = row[\"entity\"]\n",
    "      message = f\"What WikiDataID does '{text}' have? Return only WikiDataID.\"\n",
    "    attempts = 5\n",
    "    res = False\n",
    "    while not res:\n",
    "      try:\n",
    "        text = generate_content(message)\n",
    "        res = True\n",
    "      except Exception as e:\n",
    "        print(e)\n",
    "        print(\"error\")\n",
    "        time.sleep(20-attempts)\n",
    "        attempts -= 1\n",
    "\n",
    "      if attempts == 0:\n",
    "        text = \"No answer\"\n",
    "        res = True\n",
    "    return text\n",
    "\n",
    "def predict_correct(row, entity=True):\n",
    "    if entity:\n",
    "      label, correct_label = \"entity\", \"predicted_entity\"\n",
    "      question = f\"What WikiDataID does '{label}' have? Return only WikiDataID.\"\n",
    "    else:\n",
    "      label, correct_label = \"entity_id\", \"predicted_id\"\n",
    "      question = f\"What WikiData entity does WikiDataId {label} have? Return only WikiData entity.\"\n",
    "    text, correct_text = row[label], row[correct_label]\n",
    "    message = f\"\"\"You should rate the candidate answer and the correct answer. Return 1 if candidate answer corresponds to correct else return 0. Return only 1 if correct else 0. \\n Question: {question} \\n Candidate answer: {text} \\n Correct answer: {correct_text} \\n Is candidate answer correct?\"\"\"\n",
    "    attempts = 5\n",
    "    res = False\n",
    "    while not res:\n",
    "      try:\n",
    "        text = generate_content(message)\n",
    "        res = True\n",
    "      except Exception as e:\n",
    "        print(e)\n",
    "        print(\"error\")\n",
    "        time.sleep(20-attempts)\n",
    "        attempts -= 1\n",
    "\n",
    "      if attempts == 0:\n",
    "        text = \"No answer\"\n",
    "        res = True\n",
    "    return text"
   ]
  },
  {
   "cell_type": "code",
   "execution_count": 31,
   "metadata": {
    "id": "XA7Eyn4gSZjV"
   },
   "outputs": [],
   "source": [
    "all_entity = []\n",
    "all_entity_id = []\n",
    "\n",
    "for entity, entity_id in zip(df[\"answerEntity\"].values, df[\"answerEntityId\"].values):\n",
    "    if ',' in entity_id:\n",
    "        for e, i in zip(entity.split(\",\"), entity_id.split(\",\")):\n",
    "            all_entity.append(e)\n",
    "            all_entity_id.append(i)\n",
    "    else:\n",
    "        all_entity.append(entity)\n",
    "        all_entity_id.append(entity_id)\n",
    "\n",
    "for entity, entity_id in zip(df[\"questionEntity\"].values, df[\"questionEntityId\"].values):\n",
    "    if ',' in entity_id:\n",
    "        for e, i in zip(entity.split(\",\"), entity_id.split(\",\")):\n",
    "            all_entity.append(e)\n",
    "            all_entity_id.append(i)\n",
    "    else:\n",
    "        all_entity.append(entity)\n",
    "        all_entity_id.append(entity_id)\n",
    "\n",
    "data = [(e, i) for e, i in zip(all_entity, all_entity_id)]\n",
    "df_ents = pd.DataFrame(data, columns=[\"entity\", \"entity_id\"]).drop_duplicates(\"entity_id\").reset_index(drop=True)"
   ]
  },
  {
   "cell_type": "code",
   "execution_count": 32,
   "metadata": {},
   "outputs": [
    {
     "data": {
      "text/html": [
       "<div>\n",
       "<style scoped>\n",
       "    .dataframe tbody tr th:only-of-type {\n",
       "        vertical-align: middle;\n",
       "    }\n",
       "\n",
       "    .dataframe tbody tr th {\n",
       "        vertical-align: top;\n",
       "    }\n",
       "\n",
       "    .dataframe thead th {\n",
       "        text-align: right;\n",
       "    }\n",
       "</style>\n",
       "<table border=\"1\" class=\"dataframe\">\n",
       "  <thead>\n",
       "    <tr style=\"text-align: right;\">\n",
       "      <th></th>\n",
       "      <th>entity</th>\n",
       "      <th>entity_id</th>\n",
       "    </tr>\n",
       "  </thead>\n",
       "  <tbody>\n",
       "    <tr>\n",
       "      <th>0</th>\n",
       "      <td>Ruhollah Khomeini's return to Iran</td>\n",
       "      <td>Q7293530</td>\n",
       "    </tr>\n",
       "    <tr>\n",
       "      <th>1</th>\n",
       "      <td>Ruhollah Khomeini's letter to Mikhail Gorbachev</td>\n",
       "      <td>Q5952984</td>\n",
       "    </tr>\n",
       "    <tr>\n",
       "      <th>2</th>\n",
       "      <td>Ruhollah Khomeini</td>\n",
       "      <td>Q38823</td>\n",
       "    </tr>\n",
       "    <tr>\n",
       "      <th>3</th>\n",
       "      <td>Office of the Supreme Leader of Iran</td>\n",
       "      <td>Q16045000</td>\n",
       "    </tr>\n",
       "    <tr>\n",
       "      <th>4</th>\n",
       "      <td>Mohammad Reza Pahlavi and Soraya</td>\n",
       "      <td>Q63195813</td>\n",
       "    </tr>\n",
       "    <tr>\n",
       "      <th>...</th>\n",
       "      <td>...</td>\n",
       "      <td>...</td>\n",
       "    </tr>\n",
       "    <tr>\n",
       "      <th>23278</th>\n",
       "      <td>Pide and Prejudice</td>\n",
       "      <td>Q170583</td>\n",
       "    </tr>\n",
       "    <tr>\n",
       "      <th>23279</th>\n",
       "      <td>Elizabeth Bennet</td>\n",
       "      <td>Q2223341</td>\n",
       "    </tr>\n",
       "    <tr>\n",
       "      <th>23280</th>\n",
       "      <td>older sister</td>\n",
       "      <td>Q10082670</td>\n",
       "    </tr>\n",
       "    <tr>\n",
       "      <th>23281</th>\n",
       "      <td>Booker Award</td>\n",
       "      <td>Q160082</td>\n",
       "    </tr>\n",
       "    <tr>\n",
       "      <th>23282</th>\n",
       "      <td>P.H. Newby</td>\n",
       "      <td>Q531194</td>\n",
       "    </tr>\n",
       "  </tbody>\n",
       "</table>\n",
       "<p>23283 rows × 2 columns</p>\n",
       "</div>"
      ],
      "text/plain": [
       "                                                entity   entity_id\n",
       "0                   Ruhollah Khomeini's return to Iran    Q7293530\n",
       "1      Ruhollah Khomeini's letter to Mikhail Gorbachev    Q5952984\n",
       "2                                    Ruhollah Khomeini      Q38823\n",
       "3                 Office of the Supreme Leader of Iran   Q16045000\n",
       "4                     Mohammad Reza Pahlavi and Soraya   Q63195813\n",
       "...                                                ...         ...\n",
       "23278                               Pide and Prejudice     Q170583\n",
       "23279                                 Elizabeth Bennet    Q2223341\n",
       "23280                                     older sister   Q10082670\n",
       "23281                                     Booker Award     Q160082\n",
       "23282                                       P.H. Newby     Q531194\n",
       "\n",
       "[23283 rows x 2 columns]"
      ]
     },
     "execution_count": 32,
     "metadata": {},
     "output_type": "execute_result"
    }
   ],
   "source": [
    "df_ents"
   ]
  },
  {
   "cell_type": "code",
   "execution_count": 33,
   "metadata": {
    "id": "kINPWlnUTJ6n"
   },
   "outputs": [],
   "source": [
    "limit = 10\n",
    "df_ents_test = df_ents.iloc[:limit, :]"
   ]
  },
  {
   "cell_type": "code",
   "execution_count": 34,
   "metadata": {
    "colab": {
     "base_uri": "https://localhost:8080/",
     "height": 363
    },
    "id": "En-JM9AlZv7j",
    "outputId": "96eab006-a2ab-46d7-ba46-ae3daa2f319b"
   },
   "outputs": [
    {
     "data": {
      "text/html": [
       "<div>\n",
       "<style scoped>\n",
       "    .dataframe tbody tr th:only-of-type {\n",
       "        vertical-align: middle;\n",
       "    }\n",
       "\n",
       "    .dataframe tbody tr th {\n",
       "        vertical-align: top;\n",
       "    }\n",
       "\n",
       "    .dataframe thead th {\n",
       "        text-align: right;\n",
       "    }\n",
       "</style>\n",
       "<table border=\"1\" class=\"dataframe\">\n",
       "  <thead>\n",
       "    <tr style=\"text-align: right;\">\n",
       "      <th></th>\n",
       "      <th>entity</th>\n",
       "      <th>entity_id</th>\n",
       "    </tr>\n",
       "  </thead>\n",
       "  <tbody>\n",
       "    <tr>\n",
       "      <th>0</th>\n",
       "      <td>Ruhollah Khomeini's return to Iran</td>\n",
       "      <td>Q7293530</td>\n",
       "    </tr>\n",
       "    <tr>\n",
       "      <th>1</th>\n",
       "      <td>Ruhollah Khomeini's letter to Mikhail Gorbachev</td>\n",
       "      <td>Q5952984</td>\n",
       "    </tr>\n",
       "    <tr>\n",
       "      <th>2</th>\n",
       "      <td>Ruhollah Khomeini</td>\n",
       "      <td>Q38823</td>\n",
       "    </tr>\n",
       "    <tr>\n",
       "      <th>3</th>\n",
       "      <td>Office of the Supreme Leader of Iran</td>\n",
       "      <td>Q16045000</td>\n",
       "    </tr>\n",
       "    <tr>\n",
       "      <th>4</th>\n",
       "      <td>Mohammad Reza Pahlavi and Soraya</td>\n",
       "      <td>Q63195813</td>\n",
       "    </tr>\n",
       "    <tr>\n",
       "      <th>5</th>\n",
       "      <td>Mahmoud Ahmadinejad</td>\n",
       "      <td>Q34448</td>\n",
       "    </tr>\n",
       "    <tr>\n",
       "      <th>6</th>\n",
       "      <td>Hassan Rouhani</td>\n",
       "      <td>Q348144</td>\n",
       "    </tr>\n",
       "    <tr>\n",
       "      <th>7</th>\n",
       "      <td>Ayatollah Khamenei's Foreign Policy Orientation</td>\n",
       "      <td>Q57483966</td>\n",
       "    </tr>\n",
       "    <tr>\n",
       "      <th>8</th>\n",
       "      <td>Ayatollah Ali Khamenei speaks about Iranian pr...</td>\n",
       "      <td>Q18017728</td>\n",
       "    </tr>\n",
       "    <tr>\n",
       "      <th>9</th>\n",
       "      <td>Ali Khamenei bibliography</td>\n",
       "      <td>Q50815843</td>\n",
       "    </tr>\n",
       "  </tbody>\n",
       "</table>\n",
       "</div>"
      ],
      "text/plain": [
       "                                              entity  entity_id\n",
       "0                 Ruhollah Khomeini's return to Iran   Q7293530\n",
       "1    Ruhollah Khomeini's letter to Mikhail Gorbachev   Q5952984\n",
       "2                                  Ruhollah Khomeini     Q38823\n",
       "3               Office of the Supreme Leader of Iran  Q16045000\n",
       "4                   Mohammad Reza Pahlavi and Soraya  Q63195813\n",
       "5                                Mahmoud Ahmadinejad     Q34448\n",
       "6                                     Hassan Rouhani    Q348144\n",
       "7    Ayatollah Khamenei's Foreign Policy Orientation  Q57483966\n",
       "8  Ayatollah Ali Khamenei speaks about Iranian pr...  Q18017728\n",
       "9                          Ali Khamenei bibliography  Q50815843"
      ]
     },
     "execution_count": 34,
     "metadata": {},
     "output_type": "execute_result"
    }
   ],
   "source": [
    "df_ents_test"
   ]
  },
  {
   "cell_type": "code",
   "execution_count": 53,
   "metadata": {
    "colab": {
     "base_uri": "https://localhost:8080/",
     "height": 480
    },
    "id": "2XyTtj4rZEH4",
    "outputId": "48828e66-f744-45c9-d2cc-4a8f33eeff73"
   },
   "outputs": [
    {
     "data": {
      "application/vnd.jupyter.widget-view+json": {
       "model_id": "9d271e64198a4ca18c97de0d6c06530f",
       "version_major": 2,
       "version_minor": 0
      },
      "text/plain": [
       "  0%|          | 0/10 [00:00<?, ?it/s]"
      ]
     },
     "metadata": {},
     "output_type": "display_data"
    },
    {
     "name": "stderr",
     "output_type": "stream",
     "text": [
      "/tmp/ipykernel_2202481/280757366.py:1: SettingWithCopyWarning: \n",
      "A value is trying to be set on a copy of a slice from a DataFrame.\n",
      "Try using .loc[row_indexer,col_indexer] = value instead\n",
      "\n",
      "See the caveats in the documentation: https://pandas.pydata.org/pandas-docs/stable/user_guide/indexing.html#returning-a-view-versus-a-copy\n",
      "  df_ents_test[\"predicted_entity\"] = df_ents_test.progress_apply(lambda row: predict_label(row, entity=True), axis=1)\n"
     ]
    },
    {
     "data": {
      "application/vnd.jupyter.widget-view+json": {
       "model_id": "df09fe893a884cb899f70e2ff7295930",
       "version_major": 2,
       "version_minor": 0
      },
      "text/plain": [
       "  0%|          | 0/10 [00:00<?, ?it/s]"
      ]
     },
     "metadata": {},
     "output_type": "display_data"
    },
    {
     "name": "stderr",
     "output_type": "stream",
     "text": [
      "/tmp/ipykernel_2202481/280757366.py:2: SettingWithCopyWarning: \n",
      "A value is trying to be set on a copy of a slice from a DataFrame.\n",
      "Try using .loc[row_indexer,col_indexer] = value instead\n",
      "\n",
      "See the caveats in the documentation: https://pandas.pydata.org/pandas-docs/stable/user_guide/indexing.html#returning-a-view-versus-a-copy\n",
      "  df_ents_test[\"predicted_id\"] = df_ents_test.progress_apply(lambda row: predict_label(row, entity=False), axis=1)\n",
      "/tmp/ipykernel_2202481/280757366.py:3: SettingWithCopyWarning: \n",
      "A value is trying to be set on a copy of a slice from a DataFrame.\n",
      "Try using .loc[row_indexer,col_indexer] = value instead\n",
      "\n",
      "See the caveats in the documentation: https://pandas.pydata.org/pandas-docs/stable/user_guide/indexing.html#returning-a-view-versus-a-copy\n",
      "  df_ents_test[\"correct_entity\"] = df_ents_test.apply(lambda row: predict_correct(row, entity=True), axis=1)\n"
     ]
    }
   ],
   "source": [
    "df_ents_test[\"predicted_entity\"] = df_ents_test.progress_apply(lambda row: predict_label(row, entity=True), axis=1)\n",
    "df_ents_test[\"predicted_id\"] = df_ents_test.progress_apply(lambda row: predict_label(row, entity=False), axis=1)\n",
    "df_ents_test[\"correct_entity\"] = df_ents_test.apply(lambda row: predict_correct(row, entity=True), axis=1)\n",
    "# df_ents_test[\"correct_id\"] = df_ents_test.apply(lambda row: predict_correct(row, entity=False))"
   ]
  },
  {
   "cell_type": "code",
   "execution_count": 54,
   "metadata": {},
   "outputs": [
    {
     "data": {
      "text/html": [
       "<div>\n",
       "<style scoped>\n",
       "    .dataframe tbody tr th:only-of-type {\n",
       "        vertical-align: middle;\n",
       "    }\n",
       "\n",
       "    .dataframe tbody tr th {\n",
       "        vertical-align: top;\n",
       "    }\n",
       "\n",
       "    .dataframe thead th {\n",
       "        text-align: right;\n",
       "    }\n",
       "</style>\n",
       "<table border=\"1\" class=\"dataframe\">\n",
       "  <thead>\n",
       "    <tr style=\"text-align: right;\">\n",
       "      <th></th>\n",
       "      <th>entity</th>\n",
       "      <th>entity_id</th>\n",
       "      <th>predicted_entity</th>\n",
       "      <th>predicted_id</th>\n",
       "      <th>correct_entity</th>\n",
       "    </tr>\n",
       "  </thead>\n",
       "  <tbody>\n",
       "    <tr>\n",
       "      <th>0</th>\n",
       "      <td>Ruhollah Khomeini's return to Iran</td>\n",
       "      <td>Q7293530</td>\n",
       "      <td>Borjomi Municipality</td>\n",
       "      <td>Q640544</td>\n",
       "      <td>0</td>\n",
       "    </tr>\n",
       "    <tr>\n",
       "      <th>1</th>\n",
       "      <td>Ruhollah Khomeini's letter to Mikhail Gorbachev</td>\n",
       "      <td>Q5952984</td>\n",
       "      <td>Budapest Ferenc Liszt International Airport</td>\n",
       "      <td>Q4117189</td>\n",
       "      <td>0</td>\n",
       "    </tr>\n",
       "    <tr>\n",
       "      <th>2</th>\n",
       "      <td>Ruhollah Khomeini</td>\n",
       "      <td>Q38823</td>\n",
       "      <td>Budapest</td>\n",
       "      <td>Q131796</td>\n",
       "      <td>0</td>\n",
       "    </tr>\n",
       "    <tr>\n",
       "      <th>3</th>\n",
       "      <td>Office of the Supreme Leader of Iran</td>\n",
       "      <td>Q16045000</td>\n",
       "      <td>The WikiData entity for WikiDataId Q16045000 i...</td>\n",
       "      <td>Q1048413</td>\n",
       "      <td>0</td>\n",
       "    </tr>\n",
       "    <tr>\n",
       "      <th>4</th>\n",
       "      <td>Mohammad Reza Pahlavi and Soraya</td>\n",
       "      <td>Q63195813</td>\n",
       "      <td>Boris Johnson</td>\n",
       "      <td>Q211964</td>\n",
       "      <td>0</td>\n",
       "    </tr>\n",
       "    <tr>\n",
       "      <th>5</th>\n",
       "      <td>Mahmoud Ahmadinejad</td>\n",
       "      <td>Q34448</td>\n",
       "      <td>The WikiData entity for WikiDataId Q34448 is: ...</td>\n",
       "      <td>Q9176</td>\n",
       "      <td>0</td>\n",
       "    </tr>\n",
       "    <tr>\n",
       "      <th>6</th>\n",
       "      <td>Hassan Rouhani</td>\n",
       "      <td>Q348144</td>\n",
       "      <td>Q348144 is an identifier for the entity \"Budap...</td>\n",
       "      <td>Q131741</td>\n",
       "      <td>0</td>\n",
       "    </tr>\n",
       "    <tr>\n",
       "      <th>7</th>\n",
       "      <td>Ayatollah Khamenei's Foreign Policy Orientation</td>\n",
       "      <td>Q57483966</td>\n",
       "      <td>Boris Johnson</td>\n",
       "      <td>Q106304634</td>\n",
       "      <td>0</td>\n",
       "    </tr>\n",
       "    <tr>\n",
       "      <th>8</th>\n",
       "      <td>Ayatollah Ali Khamenei speaks about Iranian pr...</td>\n",
       "      <td>Q18017728</td>\n",
       "      <td>The WikiData entity for WikiDataId Q18017728 i...</td>\n",
       "      <td>Q6641445</td>\n",
       "      <td>0</td>\n",
       "    </tr>\n",
       "    <tr>\n",
       "      <th>9</th>\n",
       "      <td>Ali Khamenei bibliography</td>\n",
       "      <td>Q50815843</td>\n",
       "      <td>Boris Johnson</td>\n",
       "      <td>Q106313432</td>\n",
       "      <td>0</td>\n",
       "    </tr>\n",
       "  </tbody>\n",
       "</table>\n",
       "</div>"
      ],
      "text/plain": [
       "                                              entity  entity_id  \\\n",
       "0                 Ruhollah Khomeini's return to Iran   Q7293530   \n",
       "1    Ruhollah Khomeini's letter to Mikhail Gorbachev   Q5952984   \n",
       "2                                  Ruhollah Khomeini     Q38823   \n",
       "3               Office of the Supreme Leader of Iran  Q16045000   \n",
       "4                   Mohammad Reza Pahlavi and Soraya  Q63195813   \n",
       "5                                Mahmoud Ahmadinejad     Q34448   \n",
       "6                                     Hassan Rouhani    Q348144   \n",
       "7    Ayatollah Khamenei's Foreign Policy Orientation  Q57483966   \n",
       "8  Ayatollah Ali Khamenei speaks about Iranian pr...  Q18017728   \n",
       "9                          Ali Khamenei bibliography  Q50815843   \n",
       "\n",
       "                                    predicted_entity predicted_id  \\\n",
       "0                               Borjomi Municipality      Q640544   \n",
       "1        Budapest Ferenc Liszt International Airport     Q4117189   \n",
       "2                                           Budapest      Q131796   \n",
       "3  The WikiData entity for WikiDataId Q16045000 i...     Q1048413   \n",
       "4                                      Boris Johnson      Q211964   \n",
       "5  The WikiData entity for WikiDataId Q34448 is: ...        Q9176   \n",
       "6  Q348144 is an identifier for the entity \"Budap...      Q131741   \n",
       "7                                      Boris Johnson   Q106304634   \n",
       "8  The WikiData entity for WikiDataId Q18017728 i...     Q6641445   \n",
       "9                                      Boris Johnson   Q106313432   \n",
       "\n",
       "  correct_entity  \n",
       "0              0  \n",
       "1              0  \n",
       "2              0  \n",
       "3              0  \n",
       "4              0  \n",
       "5              0  \n",
       "6              0  \n",
       "7              0  \n",
       "8              0  \n",
       "9              0  "
      ]
     },
     "execution_count": 54,
     "metadata": {},
     "output_type": "execute_result"
    }
   ],
   "source": [
    "df_ents_test.head(40)"
   ]
  },
  {
   "cell_type": "markdown",
   "metadata": {},
   "source": [
    "# Prediction"
   ]
  },
  {
   "cell_type": "markdown",
   "metadata": {},
   "source": [
    "### Prediction With index"
   ]
  },
  {
   "cell_type": "code",
   "execution_count": null,
   "metadata": {},
   "outputs": [],
   "source": [
    "def get_context(row):\n",
    "    question, answ, wiki_id = row['question'], row['answerEntity'], row['answerEntityId']\n",
    "    message = f\"\"\"Please answer the following question, I will provide you with multiple options.\n",
    "Question: '{question.iloc[0]}'\n",
    "The correct answer is always given. Choose the correct answer. Return only the number of the correct answer option.\\n\"\"\"\n",
    "    decode_dict = {}\n",
    "    for idx, (a, i) in enumerate(zip(answ, wiki_id)):\n",
    "        decode_dict[idx] = i\n",
    "        data = {\"answer\":a, \"WikiDataID\":i}\n",
    "        message += str(idx) + \". \" + json.dumps(data) + \"\\n\"\n",
    "    return message, decode_dict"
   ]
  },
  {
   "cell_type": "code",
   "execution_count": 158,
   "metadata": {},
   "outputs": [
    {
     "data": {
      "application/vnd.jupyter.widget-view+json": {
       "model_id": "f0a3abb8971342be8323f39eca382e3b",
       "version_major": 2,
       "version_minor": 0
      },
      "text/plain": [
       "  0%|          | 0/1000 [00:00<?, ?it/s]"
      ]
     },
     "metadata": {},
     "output_type": "display_data"
    }
   ],
   "source": [
    "idx = 0\n",
    "all_rows = []\n",
    "\n",
    "for question, row in tqdm(df_test.groupby(\"question\")):\n",
    "    text, match = predict(row)\n",
    "    all_rows.append({\"questionEntityId\":row[\"questionEntityId\"].values[0], \"prediction\": text, \"match_dict\":match})"
   ]
  },
  {
   "cell_type": "code",
   "execution_count": null,
   "metadata": {},
   "outputs": [],
   "source": [
    "predictions_df = pd.DataFrame(all_rows)"
   ]
  },
  {
   "cell_type": "markdown",
   "metadata": {},
   "source": [
    "### Prediction with WikiDataId"
   ]
  },
  {
   "cell_type": "code",
   "execution_count": 23,
   "metadata": {},
   "outputs": [],
   "source": [
    "def get_context(row):\n",
    "    question, answ, wiki_id = row['question'], row['answerEntity'], row['answerEntityId']\n",
    "    message = f\"\"\"Please answer the following question, the answer should be a WikiDataID.\n",
    "Question: '{question.iloc[0]}'\n",
    "Choose the correct answer. Return only WikiDataID.\\n\"\"\"\n",
    "    decode_dict = {}\n",
    "    for idx, (a, i) in enumerate(zip(answ, wiki_id)):\n",
    "        decode_dict[idx] = i\n",
    "        data = {\"answer\":a, \"WikiDataID\":i}\n",
    "        message += str(idx) + \". \" + json.dumps(data) + \"\\n\"\n",
    "    return message, decode_dict"
   ]
  },
  {
   "cell_type": "code",
   "execution_count": 35,
   "metadata": {},
   "outputs": [
    {
     "data": {
      "application/vnd.jupyter.widget-view+json": {
       "model_id": "ea0064bb57c145ce9af5274be8f4b6d5",
       "version_major": 2,
       "version_minor": 0
      },
      "text/plain": [
       "  0%|          | 0/3535 [00:00<?, ?it/s]"
      ]
     },
     "metadata": {},
     "output_type": "display_data"
    }
   ],
   "source": [
    "df_predictions = df_train[['question', 'answerEntity', 'answerEntityId', \"graph\"]].groupby('question').progress_apply(predict)"
   ]
  },
  {
   "cell_type": "markdown",
   "metadata": {},
   "source": [
    "### Aggregate"
   ]
  },
  {
   "cell_type": "code",
   "execution_count": 36,
   "metadata": {},
   "outputs": [],
   "source": [
    "ans_dict = {}\n",
    "for idx, answer in df_predictions.reset_index().iterrows():\n",
    "    ans_dict[answer[\"question\"]] = answer[0]"
   ]
  },
  {
   "cell_type": "code",
   "execution_count": 48,
   "metadata": {
    "id": "ge0ewXzxS8Xv"
   },
   "outputs": [],
   "source": [
    "df_final_preds = df_train.copy()\n",
    "df_final_preds[\"prediction\"] = df_copy.apply(lambda row: 1 if row[\"answerEntityId\"] in ans_dict[row[\"question\"]] else 0, axis=1)"
   ]
  },
  {
   "cell_type": "code",
   "execution_count": 43,
   "metadata": {
    "colab": {
     "base_uri": "https://localhost:8080/",
     "height": 424
    },
    "id": "dh1blrL1WDiK",
    "outputId": "89ecb71b-af35-4a90-d818-9ca5eb40fe9b"
   },
   "outputs": [
    {
     "data": {
      "text/html": [
       "<div>\n",
       "<style scoped>\n",
       "    .dataframe tbody tr th:only-of-type {\n",
       "        vertical-align: middle;\n",
       "    }\n",
       "\n",
       "    .dataframe tbody tr th {\n",
       "        vertical-align: top;\n",
       "    }\n",
       "\n",
       "    .dataframe thead th {\n",
       "        text-align: right;\n",
       "    }\n",
       "</style>\n",
       "<table border=\"1\" class=\"dataframe\">\n",
       "  <thead>\n",
       "    <tr style=\"text-align: right;\">\n",
       "      <th></th>\n",
       "      <th>sample_id</th>\n",
       "      <th>question</th>\n",
       "      <th>questionEntity</th>\n",
       "      <th>answerEntity</th>\n",
       "      <th>groundTruthAnswerEntity</th>\n",
       "      <th>answerEntityId</th>\n",
       "      <th>questionEntityId</th>\n",
       "      <th>groundTruthAnswerEntityId</th>\n",
       "      <th>correct</th>\n",
       "      <th>graph</th>\n",
       "      <th>linearized_graph</th>\n",
       "    </tr>\n",
       "  </thead>\n",
       "  <tbody>\n",
       "    <tr>\n",
       "      <th>0</th>\n",
       "      <td>0</td>\n",
       "      <td>Whst is the name of the head of state and high...</td>\n",
       "      <td>Iran</td>\n",
       "      <td>Ruhollah Khomeini's return to Iran</td>\n",
       "      <td>Office of the Supreme Leader of Iran</td>\n",
       "      <td>Q7293530</td>\n",
       "      <td>Q794</td>\n",
       "      <td>Q16045000</td>\n",
       "      <td>0</td>\n",
       "      <td>{'nodes': [{'type': 'QUESTIONS_ENTITY', 'name_...</td>\n",
       "      <td>Iran (QUESTIONS_ENTITY, Q794) - country -&gt; Ira...</td>\n",
       "    </tr>\n",
       "    <tr>\n",
       "      <th>1</th>\n",
       "      <td>1</td>\n",
       "      <td>Whst is the name of the head of state and high...</td>\n",
       "      <td>Iran</td>\n",
       "      <td>Ruhollah Khomeini's letter to Mikhail Gorbachev</td>\n",
       "      <td>Office of the Supreme Leader of Iran</td>\n",
       "      <td>Q5952984</td>\n",
       "      <td>Q794</td>\n",
       "      <td>Q16045000</td>\n",
       "      <td>0</td>\n",
       "      <td>{'nodes': [{'type': 'INTERNAL', 'name_': 'Q417...</td>\n",
       "      <td>Iran (QUESTIONS_ENTITY, Q794) - described by s...</td>\n",
       "    </tr>\n",
       "    <tr>\n",
       "      <th>2</th>\n",
       "      <td>2</td>\n",
       "      <td>Whst is the name of the head of state and high...</td>\n",
       "      <td>Iran</td>\n",
       "      <td>Ruhollah Khomeini</td>\n",
       "      <td>Office of the Supreme Leader of Iran</td>\n",
       "      <td>Q38823</td>\n",
       "      <td>Q794</td>\n",
       "      <td>Q16045000</td>\n",
       "      <td>0</td>\n",
       "      <td>{'nodes': [{'type': 'QUESTIONS_ENTITY', 'name_...</td>\n",
       "      <td>Iran (QUESTIONS_ENTITY, Q794) - country -&gt; Ira...</td>\n",
       "    </tr>\n",
       "    <tr>\n",
       "      <th>3</th>\n",
       "      <td>3</td>\n",
       "      <td>Whst is the name of the head of state and high...</td>\n",
       "      <td>Iran</td>\n",
       "      <td>Office of the Supreme Leader of Iran</td>\n",
       "      <td>Office of the Supreme Leader of Iran</td>\n",
       "      <td>Q16045000</td>\n",
       "      <td>Q794</td>\n",
       "      <td>Q16045000</td>\n",
       "      <td>0</td>\n",
       "      <td>{'nodes': [{'type': 'QUESTIONS_ENTITY', 'name_...</td>\n",
       "      <td>Iran (QUESTIONS_ENTITY, Q794) - country -&gt; Ira...</td>\n",
       "    </tr>\n",
       "    <tr>\n",
       "      <th>4</th>\n",
       "      <td>4</td>\n",
       "      <td>Whst is the name of the head of state and high...</td>\n",
       "      <td>Iran</td>\n",
       "      <td>Mohammad Reza Pahlavi and Soraya</td>\n",
       "      <td>Office of the Supreme Leader of Iran</td>\n",
       "      <td>Q63195813</td>\n",
       "      <td>Q794</td>\n",
       "      <td>Q16045000</td>\n",
       "      <td>0</td>\n",
       "      <td>{'nodes': [{'type': 'QUESTIONS_ENTITY', 'name_...</td>\n",
       "      <td>Iran (QUESTIONS_ENTITY, Q794) - country -&gt; Ira...</td>\n",
       "    </tr>\n",
       "    <tr>\n",
       "      <th>...</th>\n",
       "      <td>...</td>\n",
       "      <td>...</td>\n",
       "      <td>...</td>\n",
       "      <td>...</td>\n",
       "      <td>...</td>\n",
       "      <td>...</td>\n",
       "      <td>...</td>\n",
       "      <td>...</td>\n",
       "      <td>...</td>\n",
       "      <td>...</td>\n",
       "      <td>...</td>\n",
       "    </tr>\n",
       "    <tr>\n",
       "      <th>37667</th>\n",
       "      <td>37667</td>\n",
       "      <td>Adolf Hitler was the leader of which party?</td>\n",
       "      <td>Adolf Hitler</td>\n",
       "      <td>National Socialist Party</td>\n",
       "      <td>Nazi Party</td>\n",
       "      <td>Q83150164</td>\n",
       "      <td>Q352</td>\n",
       "      <td>Q7320</td>\n",
       "      <td>0</td>\n",
       "      <td>{'nodes': [{'type': 'INTERNAL', 'name_': 'Q617...</td>\n",
       "      <td>Jordan (INTERNAL, Q810) - on focus list of Wik...</td>\n",
       "    </tr>\n",
       "    <tr>\n",
       "      <th>37668</th>\n",
       "      <td>37668</td>\n",
       "      <td>Adolf Hitler was the leader of which party?</td>\n",
       "      <td>Adolf Hitler</td>\n",
       "      <td>National Socialist Party</td>\n",
       "      <td>Nazi Party</td>\n",
       "      <td>Q6978510</td>\n",
       "      <td>Q352</td>\n",
       "      <td>Q7320</td>\n",
       "      <td>0</td>\n",
       "      <td>{'nodes': [{'type': 'INTERNAL', 'name_': 'Q617...</td>\n",
       "      <td>Romania (INTERNAL, Q218) - on focus list of Wi...</td>\n",
       "    </tr>\n",
       "    <tr>\n",
       "      <th>37669</th>\n",
       "      <td>37669</td>\n",
       "      <td>Adolf Hitler was the leader of which party?</td>\n",
       "      <td>Adolf Hitler</td>\n",
       "      <td>National Socialist Party</td>\n",
       "      <td>Nazi Party</td>\n",
       "      <td>Q4565946</td>\n",
       "      <td>Q352</td>\n",
       "      <td>Q7320</td>\n",
       "      <td>0</td>\n",
       "      <td>{'nodes': [{'type': 'INTERNAL', 'name_': 'Q617...</td>\n",
       "      <td>United Kingdom (INTERNAL, Q145) - on focus lis...</td>\n",
       "    </tr>\n",
       "    <tr>\n",
       "      <th>37670</th>\n",
       "      <td>37670</td>\n",
       "      <td>Adolf Hitler was the leader of which party?</td>\n",
       "      <td>Adolf Hitler</td>\n",
       "      <td>NSDAP Long Service Award</td>\n",
       "      <td>Nazi Party</td>\n",
       "      <td>Q328209</td>\n",
       "      <td>Q352</td>\n",
       "      <td>Q7320</td>\n",
       "      <td>0</td>\n",
       "      <td>{'nodes': [{'type': 'QUESTIONS_ENTITY', 'name_...</td>\n",
       "      <td>Adolf Hitler (QUESTIONS_ENTITY, Q352) - countr...</td>\n",
       "    </tr>\n",
       "    <tr>\n",
       "      <th>37671</th>\n",
       "      <td>37671</td>\n",
       "      <td>Adolf Hitler was the leader of which party?</td>\n",
       "      <td>Adolf Hitler</td>\n",
       "      <td>Austrian National Socialism</td>\n",
       "      <td>Nazi Party</td>\n",
       "      <td>Q1037291</td>\n",
       "      <td>Q352</td>\n",
       "      <td>Q7320</td>\n",
       "      <td>0</td>\n",
       "      <td>{'nodes': [{'type': 'INTERNAL', 'name_': 'Q617...</td>\n",
       "      <td>Austria (INTERNAL, Q40) - on focus list of Wik...</td>\n",
       "    </tr>\n",
       "  </tbody>\n",
       "</table>\n",
       "<p>37672 rows × 11 columns</p>\n",
       "</div>"
      ],
      "text/plain": [
       "       sample_id                                           question  \\\n",
       "0              0  Whst is the name of the head of state and high...   \n",
       "1              1  Whst is the name of the head of state and high...   \n",
       "2              2  Whst is the name of the head of state and high...   \n",
       "3              3  Whst is the name of the head of state and high...   \n",
       "4              4  Whst is the name of the head of state and high...   \n",
       "...          ...                                                ...   \n",
       "37667      37667        Adolf Hitler was the leader of which party?   \n",
       "37668      37668        Adolf Hitler was the leader of which party?   \n",
       "37669      37669        Adolf Hitler was the leader of which party?   \n",
       "37670      37670        Adolf Hitler was the leader of which party?   \n",
       "37671      37671        Adolf Hitler was the leader of which party?   \n",
       "\n",
       "      questionEntity                                     answerEntity  \\\n",
       "0               Iran               Ruhollah Khomeini's return to Iran   \n",
       "1               Iran  Ruhollah Khomeini's letter to Mikhail Gorbachev   \n",
       "2               Iran                                Ruhollah Khomeini   \n",
       "3               Iran             Office of the Supreme Leader of Iran   \n",
       "4               Iran                 Mohammad Reza Pahlavi and Soraya   \n",
       "...              ...                                              ...   \n",
       "37667   Adolf Hitler                         National Socialist Party   \n",
       "37668   Adolf Hitler                         National Socialist Party   \n",
       "37669   Adolf Hitler                         National Socialist Party   \n",
       "37670   Adolf Hitler                         NSDAP Long Service Award   \n",
       "37671   Adolf Hitler                      Austrian National Socialism   \n",
       "\n",
       "                    groundTruthAnswerEntity answerEntityId questionEntityId  \\\n",
       "0      Office of the Supreme Leader of Iran       Q7293530             Q794   \n",
       "1      Office of the Supreme Leader of Iran       Q5952984             Q794   \n",
       "2      Office of the Supreme Leader of Iran         Q38823             Q794   \n",
       "3      Office of the Supreme Leader of Iran      Q16045000             Q794   \n",
       "4      Office of the Supreme Leader of Iran      Q63195813             Q794   \n",
       "...                                     ...            ...              ...   \n",
       "37667                            Nazi Party      Q83150164             Q352   \n",
       "37668                            Nazi Party       Q6978510             Q352   \n",
       "37669                            Nazi Party       Q4565946             Q352   \n",
       "37670                            Nazi Party        Q328209             Q352   \n",
       "37671                            Nazi Party       Q1037291             Q352   \n",
       "\n",
       "      groundTruthAnswerEntityId  correct  \\\n",
       "0                     Q16045000        0   \n",
       "1                     Q16045000        0   \n",
       "2                     Q16045000        0   \n",
       "3                     Q16045000        0   \n",
       "4                     Q16045000        0   \n",
       "...                         ...      ...   \n",
       "37667                     Q7320        0   \n",
       "37668                     Q7320        0   \n",
       "37669                     Q7320        0   \n",
       "37670                     Q7320        0   \n",
       "37671                     Q7320        0   \n",
       "\n",
       "                                                   graph  \\\n",
       "0      {'nodes': [{'type': 'QUESTIONS_ENTITY', 'name_...   \n",
       "1      {'nodes': [{'type': 'INTERNAL', 'name_': 'Q417...   \n",
       "2      {'nodes': [{'type': 'QUESTIONS_ENTITY', 'name_...   \n",
       "3      {'nodes': [{'type': 'QUESTIONS_ENTITY', 'name_...   \n",
       "4      {'nodes': [{'type': 'QUESTIONS_ENTITY', 'name_...   \n",
       "...                                                  ...   \n",
       "37667  {'nodes': [{'type': 'INTERNAL', 'name_': 'Q617...   \n",
       "37668  {'nodes': [{'type': 'INTERNAL', 'name_': 'Q617...   \n",
       "37669  {'nodes': [{'type': 'INTERNAL', 'name_': 'Q617...   \n",
       "37670  {'nodes': [{'type': 'QUESTIONS_ENTITY', 'name_...   \n",
       "37671  {'nodes': [{'type': 'INTERNAL', 'name_': 'Q617...   \n",
       "\n",
       "                                        linearized_graph  \n",
       "0      Iran (QUESTIONS_ENTITY, Q794) - country -> Ira...  \n",
       "1      Iran (QUESTIONS_ENTITY, Q794) - described by s...  \n",
       "2      Iran (QUESTIONS_ENTITY, Q794) - country -> Ira...  \n",
       "3      Iran (QUESTIONS_ENTITY, Q794) - country -> Ira...  \n",
       "4      Iran (QUESTIONS_ENTITY, Q794) - country -> Ira...  \n",
       "...                                                  ...  \n",
       "37667  Jordan (INTERNAL, Q810) - on focus list of Wik...  \n",
       "37668  Romania (INTERNAL, Q218) - on focus list of Wi...  \n",
       "37669  United Kingdom (INTERNAL, Q145) - on focus lis...  \n",
       "37670  Adolf Hitler (QUESTIONS_ENTITY, Q352) - countr...  \n",
       "37671  Austria (INTERNAL, Q40) - on focus list of Wik...  \n",
       "\n",
       "[37672 rows x 11 columns]"
      ]
     },
     "execution_count": 43,
     "metadata": {},
     "output_type": "execute_result"
    }
   ],
   "source": [
    "df_final_preds"
   ]
  },
  {
   "cell_type": "code",
   "execution_count": 44,
   "metadata": {
    "colab": {
     "base_uri": "https://localhost:8080/",
     "height": 424
    },
    "id": "G9dFXBCXcINY",
    "outputId": "1b3f8da7-547b-4b2f-f53c-001844ef78eb"
   },
   "outputs": [
    {
     "data": {
      "text/html": [
       "<div>\n",
       "<style scoped>\n",
       "    .dataframe tbody tr th:only-of-type {\n",
       "        vertical-align: middle;\n",
       "    }\n",
       "\n",
       "    .dataframe tbody tr th {\n",
       "        vertical-align: top;\n",
       "    }\n",
       "\n",
       "    .dataframe thead th {\n",
       "        text-align: right;\n",
       "    }\n",
       "</style>\n",
       "<table border=\"1\" class=\"dataframe\">\n",
       "  <thead>\n",
       "    <tr style=\"text-align: right;\">\n",
       "      <th></th>\n",
       "      <th>sample_id</th>\n",
       "      <th>prediction</th>\n",
       "    </tr>\n",
       "  </thead>\n",
       "  <tbody>\n",
       "    <tr>\n",
       "      <th>0</th>\n",
       "      <td>0</td>\n",
       "      <td>0</td>\n",
       "    </tr>\n",
       "    <tr>\n",
       "      <th>1</th>\n",
       "      <td>1</td>\n",
       "      <td>0</td>\n",
       "    </tr>\n",
       "    <tr>\n",
       "      <th>2</th>\n",
       "      <td>2</td>\n",
       "      <td>0</td>\n",
       "    </tr>\n",
       "    <tr>\n",
       "      <th>3</th>\n",
       "      <td>3</td>\n",
       "      <td>0</td>\n",
       "    </tr>\n",
       "    <tr>\n",
       "      <th>4</th>\n",
       "      <td>4</td>\n",
       "      <td>0</td>\n",
       "    </tr>\n",
       "    <tr>\n",
       "      <th>...</th>\n",
       "      <td>...</td>\n",
       "      <td>...</td>\n",
       "    </tr>\n",
       "    <tr>\n",
       "      <th>37667</th>\n",
       "      <td>37667</td>\n",
       "      <td>0</td>\n",
       "    </tr>\n",
       "    <tr>\n",
       "      <th>37668</th>\n",
       "      <td>37668</td>\n",
       "      <td>0</td>\n",
       "    </tr>\n",
       "    <tr>\n",
       "      <th>37669</th>\n",
       "      <td>37669</td>\n",
       "      <td>0</td>\n",
       "    </tr>\n",
       "    <tr>\n",
       "      <th>37670</th>\n",
       "      <td>37670</td>\n",
       "      <td>0</td>\n",
       "    </tr>\n",
       "    <tr>\n",
       "      <th>37671</th>\n",
       "      <td>37671</td>\n",
       "      <td>0</td>\n",
       "    </tr>\n",
       "  </tbody>\n",
       "</table>\n",
       "<p>37672 rows × 2 columns</p>\n",
       "</div>"
      ],
      "text/plain": [
       "       sample_id  prediction\n",
       "0              0           0\n",
       "1              1           0\n",
       "2              2           0\n",
       "3              3           0\n",
       "4              4           0\n",
       "...          ...         ...\n",
       "37667      37667           0\n",
       "37668      37668           0\n",
       "37669      37669           0\n",
       "37670      37670           0\n",
       "37671      37671           0\n",
       "\n",
       "[37672 rows x 2 columns]"
      ]
     },
     "execution_count": 44,
     "metadata": {},
     "output_type": "execute_result"
    }
   ],
   "source": [
    "submission_df = pd.DataFrame(data={\"sample_id\": df_copy['sample_id'], 'prediction': df_final_preds['prediction']})\n",
    "submission_df"
   ]
  },
  {
   "cell_type": "code",
   "execution_count": 45,
   "metadata": {},
   "outputs": [
    {
     "data": {
      "text/plain": [
       "1271"
      ]
     },
     "execution_count": 45,
     "metadata": {},
     "output_type": "execute_result"
    }
   ],
   "source": [
    "submission_df.prediction.sum()"
   ]
  },
  {
   "cell_type": "code",
   "execution_count": 90,
   "metadata": {
    "id": "NM_wrYntcIQs"
   },
   "outputs": [],
   "source": [
    "submission_df.to_csv(\"submission_llama3_8B_ws.tsv\", sep=\"\\t\", index=False)"
   ]
  },
  {
   "cell_type": "markdown",
   "metadata": {},
   "source": [
    "# Metrics"
   ]
  },
  {
   "cell_type": "code",
   "execution_count": 53,
   "metadata": {},
   "outputs": [],
   "source": [
    "df_final_preds[\"gt_values\"] = (df_final_preds[\"answerEntityId\"] == df_final_preds[\"groundTruthAnswerEntityId\"]).astype(int)"
   ]
  },
  {
   "cell_type": "code",
   "execution_count": 60,
   "metadata": {},
   "outputs": [
    {
     "data": {
      "text/plain": [
       "0.8996602251008706"
      ]
     },
     "execution_count": 60,
     "metadata": {},
     "output_type": "execute_result"
    }
   ],
   "source": [
    "(df_final_preds[\"gt_values\"] == df_final_preds[\"prediction\"]).astype(int).mean()"
   ]
  }
 ],
 "metadata": {
  "colab": {
   "provenance": []
  },
  "kernelspec": {
   "display_name": "Python 3 (ipykernel)",
   "language": "python",
   "name": "python3"
  },
  "language_info": {
   "codemirror_mode": {
    "name": "ipython",
    "version": 3
   },
   "file_extension": ".py",
   "mimetype": "text/x-python",
   "name": "python",
   "nbconvert_exporter": "python",
   "pygments_lexer": "ipython3",
   "version": "3.11.5"
  }
 },
 "nbformat": 4,
 "nbformat_minor": 4
}
